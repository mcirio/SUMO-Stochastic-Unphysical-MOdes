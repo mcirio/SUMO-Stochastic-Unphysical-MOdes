{
 "cells": [
  {
   "cell_type": "code",
   "execution_count": 70,
   "metadata": {},
   "outputs": [],
   "source": [
    "from Functions.utility_functions import *\n",
    "from Functions.regularize_poles import *\n",
    "from Functions.J_poly import *\n",
    "from Functions.integral import *"
   ]
  },
  {
   "cell_type": "code",
   "execution_count": 93,
   "metadata": {},
   "outputs": [],
   "source": [
    "#---------------------------------------------------------------------------------\n",
    "#testing integral\n",
    "#---------------------------------------------------------------------------------\n",
    "\n",
    "def testingIntegral(x,y,a,b,c):\n",
    "    return x**2 + y**2\n",
    "\n",
    "assert integral(testingIntegral,2j+1,1,1,1,x_i=0,x_f=1,limit=10) == (-2.666666666666667+4j), 'integral(testingIntegral,2j+1,1,1,1,x_i=0,x_f=1,limit=10) should return (-2.666666666666667+4j)'"
   ]
  },
  {
   "cell_type": "code",
   "execution_count": 69,
   "metadata": {},
   "outputs": [],
   "source": [
    "#---------------------------------------------------------------------------------\n",
    "#testing J_poly\n",
    "#---------------------------------------------------------------------------------\n",
    "\n",
    "assert J_poly([1,2],[1])(1.5) == 8.0, 'J_poly([1,2],[1])(1.5) should return 8.0'"
   ]
  },
  {
   "cell_type": "code",
   "execution_count": 50,
   "metadata": {},
   "outputs": [],
   "source": [
    "#---------------------------------------------------------------------------------\n",
    "#testing regularize poles\n",
    "#---------------------------------------------------------------------------------\n",
    "\n",
    "assert regularize_poles([1,1]) == [1, 1, 1, -1, -1, 1, -1, -1], 'regularize_poles([1,1]) should return [1, 1, 1, -1, -1, 1, -1, -1]'\n",
    "assert regularize_poles([1,0]) == [1, 0, 1, -1, -1, 0], 'regularize_poles([1,0]) should return [1, 0, 1, -1, -1, 0]'"
   ]
  },
  {
   "cell_type": "code",
   "execution_count": 39,
   "metadata": {},
   "outputs": [
    {
     "name": "stdout",
     "output_type": "stream",
     "text": [
      "Test Passed: exception raised\n"
     ]
    }
   ],
   "source": [
    "#---------------------------------------------------------------------------------\n",
    "#testing utility functions\n",
    "#---------------------------------------------------------------------------------\n",
    "\n",
    "assert coth('inf', -1+1j) == -1, 'coth(\"inf\",-1+j) should return -1'\n",
    "assert coth(1,1) == 1.3130352854993312, 'coth(1,1) should return 1.3130352854993312'\n",
    "try:\n",
    "    coth(1,0)\n",
    "    print('Test Failed: exception not raised')\n",
    "except Exception:\n",
    "    print('Test Passed: exception raised')\n",
    "\n",
    "assert sg(1) == 1, 'sg(1) should return 1'\n",
    "assert theta(1) == 1, 'theta(1) should return 1'\n",
    "assert theta(-1) == 0, 'theta(-1) should return 0'"
   ]
  }
 ],
 "metadata": {
  "kernelspec": {
   "display_name": "Python 3",
   "language": "python",
   "name": "python3"
  },
  "language_info": {
   "codemirror_mode": {
    "name": "ipython",
    "version": 3
   },
   "file_extension": ".py",
   "mimetype": "text/x-python",
   "name": "python",
   "nbconvert_exporter": "python",
   "pygments_lexer": "ipython3",
   "version": "3.10.8"
  },
  "orig_nbformat": 4
 },
 "nbformat": 4,
 "nbformat_minor": 2
}
