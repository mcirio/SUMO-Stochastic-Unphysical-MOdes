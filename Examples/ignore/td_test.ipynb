{
 "cells": [
  {
   "cell_type": "code",
   "execution_count": 1,
   "id": "6d5ed005",
   "metadata": {},
   "outputs": [
    {
     "name": "stdout",
     "output_type": "stream",
     "text": [
      "5.8692007052454116e-08\n"
     ]
    }
   ],
   "source": [
    "from qutip import *\n",
    "import numpy as np\n",
    "\n",
    "N = 10  # number of basis states to consider\n",
    "a = destroy(N)\n",
    "H = a.dag() * a\n",
    "psi0 = basis(N, 9)  # initial state\n",
    "kappa = 0.2  # coupling to oscillator\n",
    "\n",
    "def sqrt_kappa(t, args):\n",
    "    return np.sqrt(kappa * np.exp(-t))\n",
    "c_op_list = [[a, sqrt_kappa]]\n",
    "tlist = np.linspace(0, 10, 100)\n",
    "medata = mesolve(H, psi0, tlist, c_op_list, [a.dag() * a])\n",
    "expt = medata.expect[0]\n",
    "actual_answer = 9.0 * np.exp(-kappa * (1.0 - np.exp(-tlist)))\n",
    "avg_diff = np.mean(abs(actual_answer - expt) / actual_answer)\n",
    "print(avg_diff)"
   ]
  },
  {
   "cell_type": "code",
   "execution_count": null,
   "id": "c3d950ac",
   "metadata": {},
   "outputs": [],
   "source": []
  }
 ],
 "metadata": {
  "kernelspec": {
   "display_name": "Python 3 (ipykernel)",
   "language": "python",
   "name": "python3"
  },
  "language_info": {
   "codemirror_mode": {
    "name": "ipython",
    "version": 3
   },
   "file_extension": ".py",
   "mimetype": "text/x-python",
   "name": "python",
   "nbconvert_exporter": "python",
   "pygments_lexer": "ipython3",
   "version": "3.9.16"
  }
 },
 "nbformat": 4,
 "nbformat_minor": 5
}
